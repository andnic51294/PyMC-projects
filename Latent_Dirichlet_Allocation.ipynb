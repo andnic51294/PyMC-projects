{
  "nbformat": 4,
  "nbformat_minor": 0,
  "metadata": {
    "colab": {
      "name": "Latent Dirichlet Allocation.ipynb",
      "provenance": [],
      "collapsed_sections": []
    },
    "kernelspec": {
      "name": "python3",
      "display_name": "Python 3"
    },
    "language_info": {
      "name": "python"
    }
  },
  "cells": [
    {
      "cell_type": "code",
      "source": [
        "!jupyter nbconvert --to html /content/LatentDirichletAllocation.ipynb.ipynb"
      ],
      "metadata": {
        "id": "fxrfwfpV38G4"
      },
      "execution_count": null,
      "outputs": []
    },
    {
      "cell_type": "code",
      "execution_count": null,
      "metadata": {
        "id": "94DfZgdfTEqj"
      },
      "outputs": [],
      "source": [
        "!pip install pymc\n",
        "!pip install git+https://github.com/codelucas/newspaper.git"
      ]
    },
    {
      "cell_type": "markdown",
      "source": [
        "# TASK 1"
      ],
      "metadata": {
        "id": "GXyTxI8Is4fB"
      }
    },
    {
      "cell_type": "markdown",
      "source": [
        "## **Function definitions**"
      ],
      "metadata": {
        "id": "NLcDPW2Pzu9r"
      }
    },
    {
      "cell_type": "code",
      "source": [
        "import gensim\n",
        "import nltk\n",
        "import numpy as np\n",
        "import pandas as pd\n",
        "import pymc as pm\n",
        "import matplotlib.pyplot as plt\n",
        "from collections import Counter\n",
        "import seaborn as sns\n",
        "sns.set_context(\"poster\")\n",
        "\n",
        "def flatten(t):\n",
        "  return [item for sublist in t for item in sublist]\n",
        "\n",
        "def lemmatize_stemming(text):                                                   \n",
        "  ps = nltk.stem.porter.PorterStemmer()\n",
        "  return ps.stem(text)\n",
        "\n",
        "# Tokenize and lemmatize the text\n",
        "def preprocess(text):\n",
        "  result=[]\n",
        "  for token in gensim.utils.simple_preprocess(text) :\n",
        "      if token not in gensim.parsing.preprocessing.STOPWORDS and len(token) > 3:\n",
        "          result.append(lemmatize_stemming(token))\n",
        "          \n",
        "  return result\n",
        "\n",
        "def to_one_word_array(v):\n",
        "    docs = list()\n",
        "    for w in v.toarray():\n",
        "        words = list()\n",
        "        for d, n in enumerate(w):\n",
        "            for j in range(n):\n",
        "                words.append(d)\n",
        "        docs.append(words)\n",
        "    return docs\n",
        "  \n",
        "\n",
        "def plot_words_per_topic(Z,ax=None):\n",
        "  if ax is None:\n",
        "      plt.clf()\n",
        "      fig, ax = plt.subplots(1,1)\n",
        "  words = Z\n",
        "  topic_dist = dict()\n",
        "  for k_i in words:\n",
        "      for k in k_i:\n",
        "          if k not in topic_dist:\n",
        "              topic_dist[k] = 0\n",
        "          topic_dist[k] += 1\n",
        "  ax.bar(topic_dist.keys(), topic_dist.values())\n",
        "  ax.set_xlabel(\"Topics\")\n",
        "  ax.set_ylabel(\"Counts\")\n",
        "  ax.set_title(\"Document words per topics\")\n",
        "  plt.show()\n",
        "\n",
        "def plot_word_dist(phi, ax=None):\n",
        "  topics = phi.value\n",
        "  if ax is None:\n",
        "      plt.clf()\n",
        "      fig, ax = plt.subplots((len(topics)+1)/2, 2, figsize=(10,10))\n",
        "  for i, t in enumerate(topics):\n",
        "      ax[i/2][i%2].bar(range(len(t[0])), t[0])\n",
        "      ax[i/2][i%2].set_title(\"Topic %s\" % i)\n",
        "  plt.suptitle(\"Vocab word proportions per topic\")\n",
        "  fig.subplots_adjust(hspace=0.5, wspace=0.5)\n",
        "\n",
        "def plot_data(self):\n",
        "  plt.clf()\n",
        "  plt.matshow(data, fignum=1000, cmap=plt.cm.Reds)\n",
        "  plt.gca().set_aspect('auto')\n",
        "  plt.xlabel(\"Words\")\n",
        "  plt.ylabel(\"Documents\")"
      ],
      "metadata": {
        "id": "vOcUqNtrxmiF",
        "colab": {
          "base_uri": "https://localhost:8080/"
        },
        "outputId": "c86649b0-7a39-4486-ed64-deb6f5d062e4"
      },
      "execution_count": 2,
      "outputs": [
        {
          "output_type": "stream",
          "name": "stderr",
          "text": [
            "/usr/local/lib/python3.7/dist-packages/statsmodels/tools/_testing.py:19: FutureWarning: pandas.util.testing is deprecated. Use the functions in the public API at pandas.testing instead.\n",
            "  import pandas.util.testing as tm\n"
          ]
        }
      ]
    },
    {
      "cell_type": "markdown",
      "source": [
        "**Topic links**"
      ],
      "metadata": {
        "id": "3uAxiGphzde-"
      }
    },
    {
      "cell_type": "code",
      "source": [
        "from newspaper import Article\n",
        "\n",
        "sport =      ['https://en.wikipedia.org/wiki/Cricket',\n",
        "              'https://en.wikipedia.org/wiki/Tennis',\n",
        "              'https://en.wikipedia.org/wiki/Football',\n",
        "              'https://en.wikipedia.org/wiki/Basketball']\n",
        "\n",
        "electronic = ['https://en.wikipedia.org/wiki/Capacitor',\n",
        "              'https://en.wikipedia.org/wiki/Integrated_circuit',\n",
        "              'https://en.wikipedia.org/wiki/Resistor',\n",
        "              'https://en.wikipedia.org/wiki/Transistor']\n",
        "\n",
        "planet =     ['https://en.wikipedia.org/wiki/Venus',\n",
        "              'https://en.wikipedia.org/wiki/Mars',\n",
        "              'https://en.wikipedia.org/wiki/Uranus',\n",
        "              'https://en.wikipedia.org/wiki/Jupiter']\n",
        "\n",
        "religion =   ['https://en.wikipedia.org/wiki/Christianity',\n",
        "              'https://en.wikipedia.org/wiki/Islam',\n",
        "              'https://en.wikipedia.org/wiki/Judaism',\n",
        "              'https://en.wikipedia.org/wiki/Buddhism']\n",
        "\n",
        "\n",
        "topic_links = {\"sport\":sport, \"religion\": religion,  \"planet\":planet, \"electronic\":electronic}"
      ],
      "metadata": {
        "id": "IGxHu3LBz8U8"
      },
      "execution_count": 3,
      "outputs": []
    },
    {
      "cell_type": "markdown",
      "source": [
        "**Text preprocessing: stemming and special characters removal**"
      ],
      "metadata": {
        "id": "IcGYZQRV0XjD"
      }
    },
    {
      "cell_type": "code",
      "source": [
        "topic_texts = []\n",
        "preprocessed_files = []\n",
        "\n",
        "for topic in topic_links:\n",
        "  topic_texts.clear()\n",
        "  for article_link in topic_links[topic]:\n",
        "    article = Article(url=\"%s\" % article_link)\n",
        "    article.download()\n",
        "    article.parse()\n",
        "    pp_text = preprocess(article.text)  #stem every word and remove special characters\n",
        "    length = 500                                                                \n",
        "    txt = \" \".join(pp_text[0:length])   #use the first 100 eligibile words from every wikipedia page\n",
        "    topic_texts.append(txt.split())\n",
        "  temp = topic_texts.copy()\n",
        "  preprocessed_files.append(temp)       #save all preprocessed texts in preprocesed_files\n"
      ],
      "metadata": {
        "id": "oi4rLq-f3dUF"
      },
      "execution_count": 4,
      "outputs": []
    },
    {
      "cell_type": "markdown",
      "source": [
        "\n",
        "**Text processing: remove sparse words**"
      ],
      "metadata": {
        "id": "EdtD5dW3ImRB"
      }
    },
    {
      "cell_type": "code",
      "source": [
        "processed_files = []                                          \n",
        "filtered_topic = []\n",
        "final_topic = []\n",
        "K = 4    #number of topics\n",
        "\n",
        "print(\"Dictionaries for all %i topics. Topic index is just related to the order of processing and doesn't reflect the final clustering of documents on topics.\"%K)\n",
        "for idx,topic_files in enumerate(preprocessed_files):\n",
        "  n = len(topic_files)       #number of documents in the topic\n",
        "  unique_files = flatten([list(set(file)) for file in topic_files])    #append unique words from every document\n",
        "  dictionary = dict(Counter(unique_files))     #create dictionary of the unique words\n",
        "\n",
        "  #keep words that are common in at least a half of the documents from the same topic\n",
        "  words_to_keep = [pair[0] for pair in list(filter(lambda x: x[1] > n/2,sorted(dictionary.items(), key=lambda x: x[1], reverse=True)))] \n",
        "  for i,doc in enumerate(topic_files):\n",
        "    temp = [i for i in doc if i in words_to_keep]\n",
        "    filtered_topic.append(temp)\n",
        "\n",
        "  # dictionary of filtered words for this particular topic\n",
        "  filtered_dictionary = dict(Counter(flatten(filtered_topic)))\n",
        "\n",
        "  # set threshold for word incidence to 1% of the total number of words for this topic\n",
        "  sparsity_threshold = len(flatten(filtered_topic))*0.01     \n",
        "\n",
        "  # save the words that have incidence higher than the sparcity threshold    \n",
        "  dense_words = [pair[0] for pair in list(filter(lambda x: x[1] > sparsity_threshold,sorted(filtered_dictionary.items(), key=lambda x: x[1], reverse=True)))]  \n",
        "  for i,doc in enumerate(filtered_topic):\n",
        "    temp = [i for i in doc if i in dense_words]\n",
        "    final_topic.append(temp)\n",
        "\n",
        "  temp = final_topic.copy()                                             \n",
        "  processed_files.append(temp)     #save all processed texts in processed_files\n",
        "  final_dictionary = dict(Counter(flatten(final_topic)))\n",
        "  print(\"dictionary for topic %i: \"%idx, {k: v for k, v in sorted(final_dictionary.items(), key=lambda item: item[1], reverse=True)})\n",
        "  filtered_topic.clear()\n",
        "  final_topic.clear()\n"
      ],
      "metadata": {
        "colab": {
          "base_uri": "https://localhost:8080/"
        },
        "id": "uKQVpikVI2gE",
        "outputId": "0ad225cf-4873-444d-fecb-f50647d5d86b"
      },
      "execution_count": 6,
      "outputs": [
        {
          "output_type": "stream",
          "name": "stdout",
          "text": [
            "Dictionaries for all 4 topics. Topic index is just related to the order of processing and doesn't reflect the final clustering of documents on topics.\n",
            "dictionary for topic 0:  {'ball': 70, 'game': 54, 'play': 45, 'footbal': 41, 'player': 34, 'team': 30, 'sport': 23, 'centuri': 17, 'court': 15, 'point': 14, 'origin': 13, 'club': 12, 'rule': 12, 'world': 12, 'field': 11, 'england': 11, 'popular': 11, 'goal': 10, 'modern': 10, 'score': 9, 'includ': 9, 'line': 8, 'refer': 8, 'call': 7, 'time': 7, 'mean': 7, 'histori': 6, 'earli': 6}\n",
            "dictionary for topic 1:  {'christian': 33, 'religion': 26, 'teach': 22, 'term': 16, 'centuri': 15, 'earli': 15, 'world': 14, 'tradit': 14, 'practic': 14, 'mean': 13, 'follow': 12, 'includ': 12, 'life': 11, 'religi': 11, 'abraham': 9, 'popul': 9, 'refer': 9, 'form': 9, 'known': 7, 'major': 7, 'call': 7, 'later': 7, 'state': 7, 'east': 7, 'asia': 7, 'faith': 7, 'origin': 7, 'monotheist': 6, 'gener': 6, 'exist': 6, 'africa': 6, 'belief': 6, 'interpret': 6, 'histor': 6}\n",
            "dictionary for topic 2:  {'planet': 71, 'earth': 52, 'surfac': 36, 'venu': 28, 'solar': 22, 'uranu': 22, 'atmospher': 22, 'orbit': 18, 'observ': 17, 'time': 15, 'temperatur': 14, 'like': 14, 'mass': 13, 'giant': 11, 'form': 10, 'moon': 9, 'water': 9, 'object': 8, 'appear': 8, 'mytholog': 7, 'mercuri': 7, 'terrestri': 7, 'similar': 7, 'planetari': 7, 'includ': 7, 'nearli': 7, 'suggest': 7, 'model': 7}\n",
            "dictionary for topic 3:  {'circuit': 45, 'power': 35, 'electr': 32, 'integr': 20, 'electron': 19, 'devic': 17, 'compon': 16, 'work': 16, 'current': 15, 'field': 13, 'invent': 13, 'materi': 11, 'voltag': 11, 'flow': 11, 'effect': 10, 'high': 10, 'termin': 9, 'common': 9, 'amplifi': 9, 'design': 8, 'construct': 8, 'metal': 8, 'connect': 8, 'time': 8, 'radio': 8, 'exampl': 7, 'edit': 7, 'requir': 7, 'packag': 7, 'discret': 7, 'passiv': 6, 'physic': 6, 'type': 6, 'form': 6, 'appli': 6, 'modern': 6, 'similar': 6, 'unit': 6}\n"
          ]
        }
      ]
    },
    {
      "cell_type": "markdown",
      "source": [
        "**Vectorize words**"
      ],
      "metadata": {
        "id": "Rpk7fvJcPQFx"
      }
    },
    {
      "cell_type": "code",
      "source": [
        "from sklearn.feature_extraction.text import CountVectorizer\n",
        "\n",
        "\n",
        "vectorizer = CountVectorizer()\n",
        "processed_docs = [\" \".join(file) for file in flatten(processed_files)]          \n",
        "v = vectorizer.fit_transform(processed_docs)\n",
        "inv_voc = {v: k for k, v in vectorizer.vocabulary_.items()}   #create vocabulary of all the processed words\n",
        "\n",
        "documents = to_one_word_array(v)                                   "
      ],
      "metadata": {
        "id": "B8Dh5qzkLA1W"
      },
      "execution_count": 7,
      "outputs": []
    },
    {
      "cell_type": "code",
      "source": [
        "print(\"Total number of words in all the documents:          \",len(flatten(documents)))\n",
        "print(\"Total number of distinct words in all the documents: \",len(inv_voc))"
      ],
      "metadata": {
        "colab": {
          "base_uri": "https://localhost:8080/"
        },
        "id": "IjqgAJeLLGJO",
        "outputId": "65a96a62-f82b-4b78-ee47-28dc77d843ed"
      },
      "execution_count": 8,
      "outputs": [
        {
          "output_type": "stream",
          "name": "stdout",
          "text": [
            "Total number of words in all the documents:           1795\n",
            "Total number of distinct words in all the documents:  112\n"
          ]
        }
      ]
    },
    {
      "cell_type": "markdown",
      "source": [
        "## **Setting the model parameters**"
      ],
      "metadata": {
        "id": "vesTvNAaQ4hb"
      }
    },
    {
      "cell_type": "markdown",
      "source": [
        "## α and β represent the prior beliefs about the corpus befor the model is trained\n",
        "\n",
        "\n",
        "*  A low value for α was chosen because every document is composed mainly of one topic. The majority of the probablity mass is in the corners of the simplex.\n",
        "\n"
      ],
      "metadata": {
        "id": "viH4I3O0ln7h"
      }
    },
    {
      "cell_type": "code",
      "source": [
        "import numpy as np\n",
        "                                                                                \n",
        "K = 4                                  # number of topics\n",
        "V = len(inv_voc)                       # number of words in the vocabulary\n",
        "M = len(documents)                     # number of documents  \n",
        "N_m = [len(doc) for doc in documents]  # number of words in every doc            \n",
        " \n",
        "                                                  \n",
        "iterations = 5000\n",
        "burn_in = 0\n",
        "\n",
        "# a small value of alpha was chosen because documents are made of one or a few topics.\n",
        "alpha = np.ones(K) * 1/K \n",
        "beta = np.ones(V) * 1/K                                                         \n",
        "print(\"K = \", K)\n",
        "print(\"V = \", V)\n",
        "print(\"M = \", M)"
      ],
      "metadata": {
        "id": "qqrk_0RzmYSA",
        "colab": {
          "base_uri": "https://localhost:8080/"
        },
        "outputId": "3d06a582-52b9-4477-d332-08bd3bcca6b8"
      },
      "execution_count": 9,
      "outputs": [
        {
          "output_type": "stream",
          "name": "stdout",
          "text": [
            "K =  4\n",
            "V =  112\n",
            "M =  16\n"
          ]
        }
      ]
    },
    {
      "cell_type": "markdown",
      "source": [
        "## **LDA Model**"
      ],
      "metadata": {
        "id": "DTVK2Uny3CB7"
      }
    },
    {
      "cell_type": "code",
      "source": [
        "# document distribution over topics\n",
        "# completed Dirichlet was used in order to add an additional probability which will make the sum of all probabilities to be alpha\n",
        "theta = pm.Container([pm.CompletedDirichlet(\"theta_%i\" % d, pm.Dirichlet(\"ttheta_%i\" % d, theta=alpha)) for d in range(M)])    \n",
        "                                                                                                                                \n",
        "# topic distribution over words\n",
        "# completed Dirichlet was used in order to add an additional probability which will make the sum of al probabilities to be beta\n",
        "phi = pm.Container([pm.CompletedDirichlet(\"phi_%s\" % k, pm.Dirichlet(\"pphi_%s\" % k, theta=beta)) for k in range(K)])  \n",
        "                                                                                                                      \n",
        "Wd = [len(doc) for doc in documents]    #list with length of all the documents                                                                                            \n",
        "\n",
        "# Will draw words from every document and it will assign a topic according to the probabilities from theta\n",
        "Z = pm.Container([pm.Categorical(\"z_%i\" % d,\n",
        "                                      p = theta[d],                                                              \n",
        "                                      size = Wd[d],                                                              \n",
        "                                      value = np.random.randint(K,size=Wd[d]))      \n",
        "                        for d in range(M)])\n",
        "\n",
        "\n",
        "#given the topic draws in z,the model will select a random word out of its topic distribution in phi\n",
        "W = pm.Container([pm.Categorical(\"w_%i_%i\" % (d,i),                                          \n",
        "                                      p = pm.Lambda(\"phi_z_%i_%i\" % (d,i),                                        \n",
        "                                                    lambda z=Z[d][i], phi=phi : phi[z]),\n",
        "                                      value=documents[d][i],\n",
        "                                      observed=True)  \n",
        "                      for d in range(M) for i in range(Wd[d])])\n",
        "\n",
        "model = pm.Model([theta, phi, Z, W])\n",
        "mcmc = pm.MCMC(model)\n",
        "mcmc.sample(iterations, burn=burn_in)"
      ],
      "metadata": {
        "id": "8mHozRNVbjpS",
        "colab": {
          "base_uri": "https://localhost:8080/"
        },
        "outputId": "6db393a5-f5ae-4574-fab6-d3e72b2e08f0"
      },
      "execution_count": 10,
      "outputs": [
        {
          "output_type": "stream",
          "name": "stderr",
          "text": [
            "/usr/local/lib/python3.7/dist-packages/pymc/MCMC.py:81: UserWarning: Instantiating a Model object directly is deprecated. We recommend passing variables directly to the Model subclass.\n",
            "  warnings.warn(message)\n"
          ]
        },
        {
          "output_type": "stream",
          "name": "stdout",
          "text": [
            " [-----------------100%-----------------] 5000 of 5000 complete in 132.7 sec"
          ]
        }
      ]
    },
    {
      "cell_type": "code",
      "source": [
        "plt.clf()\n",
        "fig, ax = plt.subplots(1,1)\n",
        "words = Z.value\n",
        "topic_dist = dict()\n",
        "for k_i in words:\n",
        "    for k in k_i:\n",
        "        if k not in topic_dist:\n",
        "            topic_dist[k] = 0\n",
        "        topic_dist[k] += 1\n",
        "ax.bar(topic_dist.keys(), topic_dist.values())\n",
        "ax.set_xlabel(\"Topics\")\n",
        "ax.set_ylabel(\"Counts\")\n",
        "ax.set_title(\"Document words per topics\")\n",
        "plt.show()"
      ],
      "metadata": {
        "colab": {
          "base_uri": "https://localhost:8080/",
          "height": 354
        },
        "id": "U7gDO3muA6jo",
        "outputId": "590bd8ea-9ec6-4ebd-d06a-efbad2b7198f"
      },
      "execution_count": 11,
      "outputs": [
        {
          "output_type": "display_data",
          "data": {
            "text/plain": [
              "<Figure size 432x288 with 0 Axes>"
            ]
          },
          "metadata": {}
        },
        {
          "output_type": "display_data",
          "data": {
            "text/plain": [
              "<Figure size 432x288 with 1 Axes>"
            ],
            "image/png": "[encoded data removed]"
          },
          "metadata": {
            "needs_background": "light"
          }
        }
      ]
    },
    {
      "cell_type": "code",
      "source": [
        "print(\"Top 5 words for every topic:\\n\")\n",
        "topics = []\n",
        "t=[]\n",
        "for k in range(K):\n",
        "  t.clear()\n",
        "  for i, j in enumerate(mcmc.trace('phi_%i'%k)[-1][0]):\n",
        "    t.append([inv_voc[i], j])\n",
        "  temp = t.copy()\n",
        "  temp.sort(key=lambda x:x[1], reverse = True)\n",
        "  print(\"Topic %i: \"%k)\n",
        "  for pair in temp[:5]:\n",
        "    print(pair)\n",
        "  print(\"\")"
      ],
      "metadata": {
        "id": "iSUH85krixqM",
        "colab": {
          "base_uri": "https://localhost:8080/"
        },
        "outputId": "cf8fc5e0-fe6f-4f28-8c69-03162cecb937"
      },
      "execution_count": 12,
      "outputs": [
        {
          "output_type": "stream",
          "name": "stdout",
          "text": [
            "Top 5 words for every topic:\n",
            "\n",
            "Topic 0: \n",
            "['metal', 0.12671189865696508]\n",
            "['mean', 0.1090590556289564]\n",
            "['type', 0.07378044890469142]\n",
            "['score', 0.055320975795624984]\n",
            "['compon', 0.05222727442383175]\n",
            "\n",
            "Topic 1: \n",
            "['life', 0.0824754488192014]\n",
            "['religion', 0.06754011287963439]\n",
            "['physic', 0.055385916035098355]\n",
            "['suggest', 0.05013077797576808]\n",
            "['planet', 0.04679128721612772]\n",
            "\n",
            "Topic 2: \n",
            "['mytholog', 0.12549203289657004]\n",
            "['earli', 0.07383875687939977]\n",
            "['model', 0.0637098021584985]\n",
            "['form', 0.061002301873164716]\n",
            "['game', 0.05568013436150991]\n",
            "\n",
            "Topic 3: \n",
            "['form', 0.18246705029527546]\n",
            "['christian', 0.07367738875206514]\n",
            "['exist', 0.06300533309840058]\n",
            "['atmospher', 0.05202727074399172]\n",
            "['line', 0.048638095129878996]\n",
            "\n"
          ]
        }
      ]
    },
    {
      "cell_type": "code",
      "source": [
        "\n",
        "counts = []\n",
        "print(\"Topic prediction for each document:\\n\")\n",
        "for d in range(len(documents)):\n",
        "    # save the last 100 traces for z\n",
        "    pred = mcmc.trace('z_%i'%d)[-100:]                                          \n",
        "    for p in pred:\n",
        "      # create list of list with the results of every word topic drew from every sentence.\n",
        "      counts.append(np.bincount(p, minlength=4))                               \n",
        "    avg_count = list(np.sum(counts,axis=0)/len(pred))\n",
        "    print(\"Document %i -> \"%d,\" Topic %i\" %avg_count.index(max(avg_count)))\n",
        "    print(\"Topic distribution for document %i\"%d,avg_count)\n",
        "    print(\"\")\n",
        "    counts.clear()"
      ],
      "metadata": {
        "id": "g1z3INjokRT6",
        "colab": {
          "base_uri": "https://localhost:8080/"
        },
        "outputId": "126f1f77-81b4-4b74-895a-1d52ce6c72f1"
      },
      "execution_count": 13,
      "outputs": [
        {
          "output_type": "stream",
          "name": "stdout",
          "text": [
            "Topic prediction for each document:\n",
            "\n",
            "Document 0 ->   Topic 0\n",
            "Topic distribution for document 0 [38.48, 29.28, 30.59, 5.65]\n",
            "\n",
            "Document 1 ->   Topic 1\n",
            "Topic distribution for document 1 [1.38, 74.62, 3.0, 52.0]\n",
            "\n",
            "Document 2 ->   Topic 3\n",
            "Topic distribution for document 2 [62.58, 28.42, 14.0, 64.0]\n",
            "\n",
            "Document 3 ->   Topic 2\n",
            "Topic distribution for document 3 [39.0, 0.0, 55.0, 14.0]\n",
            "\n",
            "Document 4 ->   Topic 1\n",
            "Topic distribution for document 4 [17.26, 54.65, 0.09, 31.0]\n",
            "\n",
            "Document 5 ->   Topic 1\n",
            "Topic distribution for document 5 [0.0, 33.05, 32.95, 33.0]\n",
            "\n",
            "Document 6 ->   Topic 3\n",
            "Topic distribution for document 6 [17.0, 7.26, 25.23, 41.51]\n",
            "\n",
            "Document 7 ->   Topic 2\n",
            "Topic distribution for document 7 [18.86, 2.22, 35.32, 19.6]\n",
            "\n",
            "Document 8 ->   Topic 1\n",
            "Topic distribution for document 8 [52.04, 81.38, 2.58, 31.0]\n",
            "\n",
            "Document 9 ->   Topic 2\n",
            "Topic distribution for document 9 [16.0, 16.96, 44.0, 9.04]\n",
            "\n",
            "Document 10 ->   Topic 2\n",
            "Topic distribution for document 10 [19.43, 0.57, 56.77, 31.23]\n",
            "\n",
            "Document 11 ->   Topic 0\n",
            "Topic distribution for document 11 [55.52, 13.48, 0.0, 32.0]\n",
            "\n",
            "Document 12 ->   Topic 1\n",
            "Topic distribution for document 12 [34.57, 45.43, 2.0, 26.0]\n",
            "\n",
            "Document 13 ->   Topic 2\n",
            "Topic distribution for document 13 [18.0, 44.0, 52.0, 9.0]\n",
            "\n",
            "Document 14 ->   Topic 3\n",
            "Topic distribution for document 14 [27.89, 16.77, 8.34, 65.0]\n",
            "\n",
            "Document 15 ->   Topic 3\n",
            "Topic distribution for document 15 [24.0, 5.0, 26.12, 47.88]\n",
            "\n"
          ]
        }
      ]
    },
    {
      "cell_type": "markdown",
      "source": [
        "# TASK 2"
      ],
      "metadata": {
        "id": "qBQDEIkMsyh3"
      }
    },
    {
      "cell_type": "markdown",
      "source": [
        "## **Topic-based similarity between documents**\n"
      ],
      "metadata": {
        "id": "55SaGhfVpwKd"
      }
    },
    {
      "cell_type": "markdown",
      "source": [
        "**Cosine Similarity**  captures the orientation of the documents not the magnitude and 2 documents which have a big difference in number of words could score high on the similarity if the sets of words for both have many elements in common."
      ],
      "metadata": {
        "id": "te5DS0mQMh64"
      }
    },
    {
      "cell_type": "code",
      "source": [
        "from sklearn.metrics.pairwise import cosine_similarity\n",
        "\n",
        "doc_names = ['Sports_1','Sports_2','Sports_3','Sports_4', 'Electronics_1', 'Electronics_2', 'Electronics_3', 'Electronics_4', 'Planets_1', 'Planets_2', 'Planets_3', 'Planets_4', 'Religions_1', 'Religions_2', 'Religions_3', 'Religions_4']\n",
        "\n",
        "doc_term_matrix = v.todense()\n",
        "words_df = pd.DataFrame(doc_term_matrix, \n",
        "                  columns=vectorizer.get_feature_names(), \n",
        "                  index = doc_names)\n",
        "\n",
        "print(\"Cosine similarity matrix\\n\")\n",
        "similarity = cosine_similarity(words_df, words_df)\n",
        "sim_df = pd.DataFrame(similarity, columns = doc_names)\n",
        "sim_df.insert(0,\"---------\",doc_names, allow_duplicates=True)\n",
        "sim_df = sim_df.set_index(\"---------\")\n",
        "print(sim_df.to_string())\n"
      ],
      "metadata": {
        "colab": {
          "base_uri": "https://localhost:8080/"
        },
        "id": "IfPaX_-7Lyy0",
        "outputId": "2c25867c-614b-4f10-99ed-091b491a1561"
      },
      "execution_count": 14,
      "outputs": [
        {
          "output_type": "stream",
          "name": "stdout",
          "text": [
            "Cosine similarity matrix\n",
            "\n",
            "               Sports_1  Sports_2  Sports_3  Sports_4  Electronics_1  Electronics_2  Electronics_3  Electronics_4  Planets_1  Planets_2  Planets_3  Planets_4  Religions_1  Religions_2  Religions_3  Religions_4\n",
            "---------                                                                                                                                                                                                        \n",
            "Sports_1       1.000000  0.807566  0.603160  0.834864       0.062369       0.133510       0.069877       0.097548   0.009841   0.006782   0.008452   0.025335     0.031211     0.013937     0.002084     0.068537\n",
            "Sports_2       0.807566  1.000000  0.540553  0.671859       0.070801       0.115379       0.058151       0.120021   0.012347   0.006078   0.010100   0.029193     0.027971     0.032474     0.002802     0.035830\n",
            "Sports_3       0.603160  0.540553  1.000000  0.620915       0.049771       0.082598       0.039830       0.068544   0.001149   0.003960   0.001645   0.006340     0.009112     0.005968     0.000000     0.024178\n",
            "Sports_4       0.834864  0.671859  0.620915  1.000000       0.029390       0.065232       0.036417       0.028650   0.007180   0.000000   0.005139   0.013204     0.011645     0.005932     0.001901     0.014325\n",
            "Electronics_1  0.062369  0.070801  0.049771  0.029390       1.000000       0.455552       0.410757       0.309665   0.001862   0.006416   0.002665   0.010271     0.000000     0.000000     0.000000     0.000000\n",
            "Electronics_2  0.133510  0.115379  0.082598  0.065232       0.455552       1.000000       0.765222       0.545227   0.001898   0.013080   0.008150   0.066308     0.024623     0.005375     0.012057     0.000000\n",
            "Electronics_3  0.069877  0.058151  0.039830  0.036417       0.410757       0.765222       1.000000       0.490623   0.001987   0.013691   0.008531   0.069409     0.025774     0.005627     0.012621     0.000000\n",
            "Electronics_4  0.097548  0.120021  0.068544  0.028650       0.309665       0.545227       0.490623       1.000000   0.004936   0.018708   0.008478   0.041749     0.006403     0.001398     0.003136     0.000000\n",
            "Planets_1      0.009841  0.012347  0.001149  0.007180       0.001862       0.001898       0.001987       0.004936   1.000000   0.784208   0.338090   0.520042     0.018634     0.012203     0.003733     0.008525\n",
            "Planets_2      0.006782  0.006078  0.003960  0.000000       0.006416       0.013080       0.013691       0.018708   0.784208   1.000000   0.432783   0.637882     0.013134     0.006690     0.002144     0.008813\n",
            "Planets_3      0.008452  0.010100  0.001645  0.005139       0.002665       0.008150       0.008531       0.008478   0.338090   0.432783   1.000000   0.678412     0.019398     0.011116     0.004453     0.008542\n",
            "Planets_4      0.025335  0.029193  0.006340  0.013204       0.010271       0.066308       0.069409       0.041749   0.520042   0.637882   0.678412   1.000000     0.065415     0.026521     0.025169     0.009406\n",
            "Religions_1    0.031211  0.027971  0.009112  0.011645       0.000000       0.024623       0.025774       0.006403   0.018634   0.013134   0.019398   0.065415     1.000000     0.447402     0.817932     0.586187\n",
            "Religions_2    0.013937  0.032474  0.005968  0.005932       0.000000       0.005375       0.005627       0.001398   0.012203   0.006690   0.011116   0.026521     0.447402     1.000000     0.429066     0.344062\n",
            "Religions_3    0.002084  0.002802  0.000000  0.001901       0.000000       0.012057       0.012621       0.003136   0.003733   0.002144   0.004453   0.025169     0.817932     0.429066     1.000000     0.412967\n",
            "Religions_4    0.068537  0.035830  0.024178  0.014325       0.000000       0.000000       0.000000       0.000000   0.008525   0.008813   0.008542   0.009406     0.586187     0.344062     0.412967     1.000000\n"
          ]
        },
        {
          "output_type": "stream",
          "name": "stderr",
          "text": [
            "/usr/local/lib/python3.7/dist-packages/sklearn/utils/deprecation.py:87: FutureWarning: Function get_feature_names is deprecated; get_feature_names is deprecated in 1.0 and will be removed in 1.2. Please use get_feature_names_out instead.\n",
            "  warnings.warn(msg, category=FutureWarning)\n"
          ]
        }
      ]
    },
    {
      "cell_type": "markdown",
      "source": [
        "## **Topic prediction for a new document**\n"
      ],
      "metadata": {
        "id": "N_TnMOWDiFcM"
      }
    },
    {
      "cell_type": "markdown",
      "source": [
        "**Remove stopwords and apply stemming to the document**"
      ],
      "metadata": {
        "id": "U0fKfiMBsNtg"
      }
    },
    {
      "cell_type": "code",
      "source": [
        "new_link = 'https://en.wikipedia.org/wiki/Pluto'\n",
        "\n",
        "new_text = []\n",
        "preprocessed_files = []\n",
        "\n",
        "test_article = Article(url=\"%s\" % new_link)\n",
        "test_article.download()\n",
        "test_article.parse()\n",
        "\n",
        "#stem every word and remove special characters\n",
        "pp_text = preprocess(test_article.text)   \n",
        "length = 500           \n",
        "#use the first 500 eligibile words from every wikipedia page                                                     \n",
        "new_text = \" \".join(pp_text[0:length])   \n",
        "new_doc = pp_text[0:length]"
      ],
      "metadata": {
        "id": "WmTbM8RuiM6p"
      },
      "execution_count": 15,
      "outputs": []
    },
    {
      "cell_type": "markdown",
      "source": [
        "**Remove sparse words and vectorize the document**"
      ],
      "metadata": {
        "id": "-U2FJ7R3sUxK"
      }
    },
    {
      "cell_type": "code",
      "source": [
        "final_test_doc = []\n",
        "\n",
        "# dictionary of filtered words for this particular topic\n",
        "temp_dictionary = dict(Counter(new_doc))                                        \n",
        "\n",
        "# set threshold for word incidence to 1% of the number of words \n",
        "sparcity_threshold = len(new_doc)*0.01                                          \n",
        "\n",
        "# save the words that have incidence higher than the sparcity threshold\n",
        "dense_words = [pair[0] for pair in list(filter(lambda x: x[1] > sparcity_threshold,sorted(temp_dictionary.items(), key=lambda x: x[1], reverse=True)))]  \n",
        "final_test_doc = [i for i in new_doc if i in dense_words]\n"
      ],
      "metadata": {
        "id": "efr_0YiwoiVI"
      },
      "execution_count": 16,
      "outputs": []
    },
    {
      "cell_type": "code",
      "source": [
        "test_words = [inv_voc[value] for value in inv_voc]\n",
        "\n",
        "#extract the words that are that can be found in the vocabulary used for training\n",
        "common_words = [i for i in final_test_doc if i in test_words]                   \n",
        "test_words = \" \".join(common_words)\n",
        "\n",
        "#create a new preprocessed corpus with training and test documents\n",
        "all_words = processed_docs.copy()\n",
        "all_words.append(test_words)                                                    \n",
        "\n",
        "#vectorize all the words documents\n",
        "#and keep only the test documents\n",
        "v_all = vectorizer.fit_transform(all_words)                                     \n",
        "all_documents = to_one_word_array(v_all)\n",
        "test_documents = [all_documents[-1]]                                            \n",
        "test_text = \" \".join(common_words)"
      ],
      "metadata": {
        "id": "7iIeb7U40q0r"
      },
      "execution_count": 17,
      "outputs": []
    },
    {
      "cell_type": "markdown",
      "source": [
        "**Test model**"
      ],
      "metadata": {
        "id": "vO42zasi79L_"
      }
    },
    {
      "cell_type": "code",
      "source": [
        "wd_test = [len(doc) for doc in test_documents]        \n",
        "\n",
        "#both priors will be set to 1 for the training set\n",
        "alpha = np.ones(K)                                                              \n",
        "beta = np.ones(V)\n",
        "\n",
        "D_test = len(test_documents)\n",
        "wd_test = [len(doc) for doc in test_documents]\n",
        "\n",
        "theta_test = pm.Container([pm.CompletedDirichlet(\"theta_t_%s\" % i, pm.Dirichlet(\"ptheta_t_%s\" % i, theta=alpha)) for i in range(D_test)])    \n",
        "z_test = pm.Container([pm.Categorical('z_t_%s' % d, p = theta_test[d], size=wd_test[d], value=np.random.randint(K, size=wd_test[d])) for d in range(D_test)])\n",
        "   \n",
        "w_test = pm.Container([pm.Categorical(\"w_t_%i_%i\" % (d,i), p = pm.Lambda('phi_z_t_%i_%i' % (d,i), lambda z=z_test[d][i], phi=phi: phi[z]),\n",
        "                    value=test_documents[d][i], observed=True) for d in range(D_test) for i in range(wd_test[d])])\n",
        "\n",
        "model_test = pm.Model([theta_test, z_test, w_test])\n",
        "mcmc_test = pm.MCMC(model_test)\n",
        "mcmc_test.sample(iter=5000, burn=100)"
      ],
      "metadata": {
        "id": "0ogNfzp9-wUA",
        "colab": {
          "base_uri": "https://localhost:8080/"
        },
        "outputId": "8ed13944-64b2-48ef-ab4e-9fe0fe99ec69"
      },
      "execution_count": 18,
      "outputs": [
        {
          "output_type": "stream",
          "name": "stderr",
          "text": [
            "/usr/local/lib/python3.7/dist-packages/pymc/MCMC.py:81: UserWarning: Instantiating a Model object directly is deprecated. We recommend passing variables directly to the Model subclass.\n",
            "  warnings.warn(message)\n"
          ]
        },
        {
          "output_type": "stream",
          "name": "stdout",
          "text": [
            " [-----------------100%-----------------] 5000 of 5000 complete in 4.0 sec"
          ]
        }
      ]
    },
    {
      "cell_type": "markdown",
      "source": [
        "**Topic prediction and the distribution over topics for the test documents**"
      ],
      "metadata": {
        "id": "G1_baO1-VLKh"
      }
    },
    {
      "cell_type": "code",
      "source": [
        "counts.clear()\n",
        "\n",
        "counts = []\n",
        "print(\"Topic prediction for the test documents:\\n\")\n",
        "for d in range(len(test_documents)):\n",
        "    # save the last 100 traces for z\n",
        "    pred = mcmc_test.trace('z_t_%i'%d)[-100:]                                   \n",
        "    for p in pred:\n",
        "      # create list of list with the results of every word topic drew from every sentence.\n",
        "      counts.append(np.bincount(p, minlength=4))                                \n",
        "    avg_count = list(np.sum(counts,axis=0)/len(pred))\n",
        "    print(\"Test document #%i -> \"%d,\" Topic %i\" %avg_count.index(max(avg_count)))\n",
        "    print(\"Topic distribution for document %i\"%d,avg_count)\n",
        "    print(\"\")\n",
        "    counts.clear()"
      ],
      "metadata": {
        "colab": {
          "base_uri": "https://localhost:8080/"
        },
        "id": "ep1GVcIfSLhA",
        "outputId": "8ebfd15d-1c76-48b4-e53c-adad355466d8"
      },
      "execution_count": 19,
      "outputs": [
        {
          "output_type": "stream",
          "name": "stdout",
          "text": [
            "Topic prediction for the test documents:\n",
            "\n",
            "Test document #0 ->   Topic 2\n",
            "Topic distribution for document 0 [9.41, 6.58, 13.33, 6.68]\n",
            "\n"
          ]
        }
      ]
    },
    {
      "cell_type": "markdown",
      "source": [
        "# **Correlated Topic Models** (unfinished)\n"
      ],
      "metadata": {
        "id": "XN7QDrNsYwgS"
      }
    },
    {
      "cell_type": "code",
      "source": [
        "K = 4                                   # number of topics\n",
        "V = len(inv_voc)                        # number of words in the vocabulary\n",
        "M = len(documents)                      # number of documents  \n",
        "N_m = [len(doc) for doc in documents]   # number of words in every doc "
      ],
      "metadata": {
        "id": "XU3qADYohW4q"
      },
      "execution_count": 20,
      "outputs": []
    },
    {
      "cell_type": "markdown",
      "source": [
        "*   The key to the correlated topic model is the logistic normal distribution on the simplex. \n",
        "*   **η** is normally distributed and then mapped to the simplex.\n",
        "*   **f(η)** will be the soft max regression function.\n",
        "\n",
        "\n"
      ],
      "metadata": {
        "id": "8ppLkzdqSDi9"
      }
    },
    {
      "cell_type": "code",
      "source": [
        "import pymc as pm\n",
        "\n",
        "def softmax(x):\n",
        "    e_x = np.exp(x - np.max(x))\n",
        "    return e_x / e_x.sum(axis=0)\n",
        "\n",
        "\n",
        "Wd = [len(doc) for doc in documents]\n",
        "\n",
        "# mu is a K-dimensional vector\n",
        "mu = flatten(np.ones((1,K),dtype = np.float64)) \n",
        "\n",
        "# generate a random K x K covariance matrix\n",
        "cov_mx = np.random.random_sample(size=(K,K))       \n",
        "# create a random positive definite covariance matrix\\                            \n",
        "pos_def = np.transpose(cov_mx) @ cov_mx                                         \n",
        "# get its inverse   \n",
        "inv_pos_def = np.linalg.inv(pos_def)                                                        \n",
        "\n",
        "# multi-variate normal distribution to be mapped on the simplex from which we will draw the topic assignment\n",
        "eta = pm.MvNormal('eta', mu = mu, tau = inv_pos_def)                            \n",
        "f_eta = softmax(eta.value)   "
      ],
      "metadata": {
        "id": "KBYs1jNerqLD"
      },
      "execution_count": 21,
      "outputs": []
    },
    {
      "cell_type": "code",
      "source": [
        "# topic distribution over words                                          \n",
        "phi = pm.Container([pm.CompletedDirichlet(\"phi_%s\" % k, pm.Dirichlet(\"pphi_%s\" % k, theta=beta)) for k in range(K)])  \n",
        "\n",
        "#list with length of all the documents\n",
        "Wd = [len(doc) for doc in documents]                                                                                                                                        \n",
        "\n",
        "# Will draw words from every document and it will assign a topic according to the probabilities from f_eta\n",
        "Z = pm.Container([pm.Categorical(\"z_%i\" % d,\n",
        "                                      p = f_eta,                                \n",
        "                                      size = Wd[d],                             \n",
        "                                      value = np.random.randint(K,size=Wd[d])) \n",
        "                        for d in range(M)])\n",
        "\n",
        "\n",
        "W = pm.Container([pm.Categorical(\"w_%i_%i\" % (d,i),                                          \n",
        "                                      p = pm.Lambda(\"phi_z_%i_%i\" % (d,i),\n",
        "                                                    lambda z=Z[d][i], phi=phi : phi[z]),\n",
        "                                      value=documents[d][i],\n",
        "                                      observed=True)  \n",
        "                      for d in range(M) for i in range(Wd[d])])"
      ],
      "metadata": {
        "id": "LuutSfmsfv60"
      },
      "execution_count": 22,
      "outputs": []
    }
  ]
}